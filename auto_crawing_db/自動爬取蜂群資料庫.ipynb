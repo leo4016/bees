{
 "cells": [
  {
   "cell_type": "markdown",
   "metadata": {},
   "source": [
    "# 優化後程式"
   ]
  },
  {
   "cell_type": "markdown",
   "metadata": {},
   "source": [
    "### 1.創資料夾"
   ]
  },
  {
   "cell_type": "code",
   "execution_count": 10,
   "metadata": {},
   "outputs": [
    {
     "name": "stdout",
     "output_type": "stream",
     "text": [
      "maps\\新北市淡水區 创建成功\n",
      "maps\\台北市南港區 创建成功\n",
      "maps\\基隆市中山區 创建成功\n",
      "maps\\基隆市仁愛區 创建成功\n",
      "maps\\基隆市安樂區 创建成功\n",
      "maps\\台北市內湖區 创建成功\n",
      "maps\\新北市新莊區 创建成功\n",
      "maps\\新北市樹林區 创建成功\n",
      "maps\\新北市板橋區 创建成功\n",
      "maps\\台北市松山區 创建成功\n",
      "maps\\新北市中和區 创建成功\n",
      "maps\\基隆市暖暖區 创建成功\n",
      "maps\\基隆市七堵區 创建成功\n",
      "maps\\基隆市中正區 创建成功\n",
      "maps\\基隆市信義區 创建成功\n",
      "maps\\新北市汐止區 创建成功\n",
      "maps\\台北市中山區 创建成功\n",
      "maps\\台北市大同區 创建成功\n",
      "maps\\台北市大安區 创建成功\n",
      "maps\\台北市中正區 创建成功\n",
      "maps\\台北市信義區 创建成功\n",
      "maps\\台北市萬華區 创建成功\n",
      "maps\\台北市士林區 创建成功\n",
      "maps\\台北市北投區 创建成功\n",
      "maps\\新北市蘆洲區 创建成功\n",
      "maps\\新北市三重區 创建成功\n",
      "maps\\新北市土城區 创建成功\n",
      "maps\\新北市永和區 创建成功\n"
     ]
    }
   ],
   "source": [
    "CityName=(\"danshui\",\"nangang\",\"zhongshan_keelung\",\"renai\",\"anle\",\"neihu\",\"xinzhuang\",\"shulin\",\"banqiao\",\n",
    "          \"songshan\",\"zhonghe\",\"nuannuan\",\"qidu\",\"keelung_zhongzheng\",\"keelung_xinyi\",\"xizhi\",\"taipei_zhongshan\",\n",
    "         \"datong\",\"daan\",\"taipei_zhongzheng\",\"taipei_xinyi\",\"wanhua\",\"shilin\",\"beitou\",\"luzhou\",\"sanchong\",\"yonghe\",\"tucheng\")\n",
    "def mkdir(path):\n",
    "    # 引入模块\n",
    "    import os\n",
    " \n",
    "    # 去除首位空格\n",
    "    path=path.strip()\n",
    "    # 去除尾部 \\ 符号\n",
    "    path=path.rstrip(\"\\\\\")\n",
    " \n",
    "    # 判断路径是否存在\n",
    "    # 存在     True\n",
    "    # 不存在   False\n",
    "    isExists=os.path.exists(path)\n",
    " \n",
    "    # 判断结果\n",
    "    if not isExists:\n",
    "        # 如果不存在则创建目录\n",
    "        print (path+' 创建成功')\n",
    "        # 创建目录操作函数\n",
    "        os.makedirs(path)\n",
    "        return True\n",
    "    else:\n",
    "        # 如果目录存在则不创建，并提示目录已存在\n",
    "        print (path+' 目录已存在')\n",
    "        return False\n",
    " \n",
    "# 定义要创建的目录\n",
    "\n",
    "\n",
    "#home/leo/Desktop/connect_to_db\n",
    "#mkpath=\"d:\\\\qttc\\\\web\\\\\"\n",
    "# 调用函数\n",
    "#mkdir(mkpath)\n",
    "\n",
    "#for x in CityName:\n",
    "  #  mkdir(\"maps\\{}\".format(x))       #創建全部地區資料夾\n",
    "for y in CityName1.values():\n",
    "    mkdir(\"maps\\{}\".format(y)) \n"
   ]
  },
  {
   "cell_type": "markdown",
   "metadata": {},
   "source": [
    "### 2.抓資料庫資料並存成excel"
   ]
  },
  {
   "cell_type": "code",
   "execution_count": 4,
   "metadata": {
    "scrolled": false
   },
   "outputs": [
    {
     "name": "stdout",
     "output_type": "stream",
     "text": [
      "Time used: 3.9232595098733896\n"
     ]
    }
   ],
   "source": [
    "import pandas as pd\n",
    "import psycopg2\n",
    "import time\n",
    "\n",
    "start = time.clock()\n",
    "\n",
    "\n",
    "CityName=(\"danshui\",\"nangang\",\"zhongshan_keelung\",\"renai\",\"anle\",\"neihu\",\"xinzhuang\",\"shulin\",\"banqiao\",\n",
    "          \"songshan\",\"zhonghe\",\"nuannuan\",\"qidu\",\"keelung_zhongzheng\",\"keelung_xinyi\",\"xizhi\",\"taipei_zhongshan\",\n",
    "         \"datong\",\"daan\",\"taipei_zhongzheng\",\"taipei_xinyi\",\"wanhua\",\"shilin\",\"beitou\",\"luzhou\",\"sanchong\",\"yonghe\",\"tucheng\")\n",
    "\n",
    "B_type=(\"NORMAL\",\"BUSINESS\",\"PIPE\")\n",
    "\n",
    "CityName1={\"danshui\":\"新北市淡水區\",\"nangang\":\"台北市南港區\",\"zhongshan_keelung\":\"基隆市中山區\",\n",
    "          \"renai\":\"基隆市仁愛區\",\"anle\":\"基隆市安樂區\",\"neihu\":\"台北市內湖區\",\n",
    "          \"xinzhuang\":\"新北市新莊區\",\"shulin\":\"新北市樹林區\",\"banqiao\":\"新北市板橋區\",\n",
    "          \"songshan\":\"台北市松山區\",\"zhonghe\":\"新北市中和區\",\"nuannuan\":\"基隆市暖暖區\",\n",
    "          \"qidu\":\"基隆市七堵區\",\"keelung_zhongzheng\":\"基隆市中正區\",\"keelung_xinyi\":\"基隆市信義區\",\n",
    "          \"xizhi\":\"新北市汐止區\",\"taipei_zhongshan\":\"台北市中山區\",\"datong\":\"台北市大同區\",\"daan\":\"台北市大安區\",\n",
    "          \"taipei_zhongzheng\":\"台北市中正區\",\"taipei_xinyi\":\"台北市信義區\",\"wanhua\":\"台北市萬華區\",\n",
    "          \"shilin\":\"台北市士林區\",\"beitou\":\"台北市北投區\",\"luzhou\":\"新北市蘆洲區\",\"sanchong\":\"新北市三重區\",\n",
    "          \"tucheng\":\"新北市土城區\",\"yonghe\":\"新北市永和區\"}\n",
    "\n",
    "\n",
    "conn=psycopg2.connect(database=\"prod_20180503\", user=\"postgres\", password=\"12345\",host='localhost', port=\"5432\")\n",
    "\n",
    "with conn:\n",
    "    for x in CityName:\n",
    "        for y in B_type:\n",
    "            cur=conn.cursor()\n",
    "            cur.execute(\"select id,postcode,business_type,city_name,address,latitude,longitude from consumer where city_name='{}' and business_type='{}'\".format(x,y)) \n",
    "            columns1 = ['id','postcode','business_type','city_name','address','latitude','longitude']\n",
    "            rows = cur.fetchall()\n",
    "            z=pd.DataFrame(rows,columns = ['id','postcode','business_type','city_name','address','latitude','longitude'] )\n",
    "           # z.index.name = 'dd'  #原本ˋpandas會自動產生一列index,故先定義index column名為dd,之後再刪除.\n",
    "            cur.close()\n",
    "\n",
    "            writer = pd.ExcelWriter('maps\\{}\\{}_{}.xlsx'.format(CityName1[x],CityName1[x],y), engine='xlsxwriter')\n",
    "            z.to_excel(writer, 'Sheet1')\n",
    "            writer.save()  \n",
    "            \n",
    "elapsed = (time.clock() - start)\n",
    "print(\"Time used:\",elapsed)\n"
   ]
  },
  {
   "cell_type": "markdown",
   "metadata": {},
   "source": [
    "# 2.1 寫成程式"
   ]
  },
  {
   "cell_type": "code",
   "execution_count": 6,
   "metadata": {},
   "outputs": [],
   "source": [
    "def autocraw(ccc):\n",
    "    import pandas as pd\n",
    "    import psycopg2\n",
    "    import time\n",
    "\n",
    "    start = time.clock()\n",
    "\n",
    "\n",
    "    CityName=(\"danshui\",\"nangang\",\"zhongshan_keelung\",\"renai\",\"anle\",\"neihu\",\"xinzhuang\",\"shulin\",\"banqiao\",\n",
    "              \"songshan\",\"zhonghe\",\"nuannuan\",\"qidu\",\"keelung_zhongzheng\",\"keelung_xinyi\",\"xizhi\",\"taipei_zhongshan\",\n",
    "             \"datong\",\"daan\",\"taipei_zhongzheng\",\"taipei_xinyi\",\"wanhua\",\"shilin\",\"beitou\",\"luzhou\",\"sanchong\",\"yonghe\",\"tucheng\")\n",
    "\n",
    "    B_type=(\"NORMAL\",\"BUSINESS\",\"PIPE\")\n",
    "\n",
    "    CityName1={\"danshui\":\"新北市淡水區\",\"nangang\":\"台北市南港區\",\"zhongshan_keelung\":\"基隆市中山區\",\n",
    "              \"renai\":\"基隆市仁愛區\",\"anle\":\"基隆市安樂區\",\"neihu\":\"台北市內湖區\",\n",
    "              \"xinzhuang\":\"新北市新莊區\",\"shulin\":\"新北市樹林區\",\"banqiao\":\"新北市板橋區\",\n",
    "              \"songshan\":\"台北市松山區\",\"zhonghe\":\"新北市中和區\",\"nuannuan\":\"基隆市暖暖區\",\n",
    "              \"qidu\":\"基隆市七堵區\",\"keelung_zhongzheng\":\"基隆市中正區\",\"keelung_xinyi\":\"基隆市信義區\",\n",
    "              \"xizhi\":\"新北市汐止區\",\"taipei_zhongshan\":\"台北市中山區\",\"datong\":\"台北市大同區\",\"daan\":\"台北市大安區\",\n",
    "              \"taipei_zhongzheng\":\"台北市中正區\",\"taipei_xinyi\":\"台北市信義區\",\"wanhua\":\"台北市萬華區\",\n",
    "              \"shilin\":\"台北市士林區\",\"beitou\":\"台北市北投區\",\"luzhou\":\"新北市蘆洲區\",\"sanchong\":\"新北市三重區\",\n",
    "              \"tucheng\":\"新北市土城區\",\"yonghe\":\"新北市永和區\"}\n",
    "\n",
    "\n",
    "    conn=psycopg2.connect(database=ccc, user=\"postgres\", password=\"12345\",host='localhost', port=\"5432\")\n",
    "\n",
    "    with conn:\n",
    "        for x in CityName:\n",
    "            for y in B_type:\n",
    "                cur=conn.cursor()\n",
    "                cur.execute(\"select id,postcode,business_type,city_name,address,latitude,longitude from consumer where city_name='{}' and business_type='{}'\".format(x,y)) \n",
    "                columns1 = ['id','postcode','business_type','city_name','address','latitude','longitude']\n",
    "                rows = cur.fetchall()\n",
    "                z=pd.DataFrame(rows,columns = ['id','postcode','business_type','city_name','address','latitude','longitude'] )\n",
    "               # z.index.name = 'dd'  #原本ˋpandas會自動產生一列index,故先定義index column名為dd,之後再刪除.\n",
    "                cur.close()\n",
    "\n",
    "                writer = pd.ExcelWriter('maps\\{}\\{}_{}.xlsx'.format(CityName1[x],CityName1[x],y), engine='xlsxwriter')\n",
    "                z.to_excel(writer, 'Sheet1')\n",
    "                writer.save()  \n",
    "    "
   ]
  },
  {
   "cell_type": "code",
   "execution_count": 11,
   "metadata": {},
   "outputs": [],
   "source": [
    "for y in CityName1.values():\n",
    "    mkdir(\"maps\\{}\".format(y)) \n",
    "\n",
    "autocraw(\"prod_20180503\")"
   ]
  },
  {
   "cell_type": "markdown",
   "metadata": {},
   "source": [
    "## 3.pandas合併欄位並刪除原address"
   ]
  },
  {
   "cell_type": "code",
   "execution_count": 8,
   "metadata": {},
   "outputs": [
    {
     "name": "stdout",
     "output_type": "stream",
     "text": [
      "Time used: 4.3887675449510155\n"
     ]
    }
   ],
   "source": [
    "start = time.clock()\n",
    "\n",
    "\n",
    "\n",
    "CityName=(\"danshui\",\"nangang\",\"zhongshan_keelung\",\"renai\",\"anle\",\"neihu\",\"xinzhuang\",\"shulin\",\"banqiao\",\n",
    "          \"songshan\",\"zhonghe\",\"nuannuan\",\"qidu\",\"keelung_zhongzheng\",\"keelung_xinyi\",\"xizhi\",\"taipei_zhongshan\",\n",
    "         \"datong\",\"daan\",\"taipei_zhongzheng\",\"taipei_xinyi\",\"wanhua\",\"shilin\",\"beitou\",\"luzhou\",\"sanchong\",\"yonghe\",\"tucheng\")\n",
    "\n",
    "B_type=(\"NORMAL\",\"BUSINESS\",\"PIPE\")\n",
    "\n",
    "CityName1={\"danshui\":\"新北市淡水區\",\"nangang\":\"台北市南港區\",\"zhongshan_keelung\":\"基隆市中山區\",\n",
    "          \"renai\":\"基隆市仁愛區\",\"anle\":\"基隆市安樂區\",\"neihu\":\"台北市內湖區\",\n",
    "          \"xinzhuang\":\"新北市新莊區\",\"shulin\":\"新北市樹林區\",\"banqiao\":\"新北市板橋區\",\n",
    "          \"songshan\":\"台北市松山區\",\"zhonghe\":\"新北市中和區\",\"nuannuan\":\"基隆市暖暖區\",\n",
    "          \"qidu\":\"基隆市七堵區\",\"keelung_zhongzheng\":\"基隆市中正區\",\"keelung_xinyi\":\"基隆市信義區\",\n",
    "          \"xizhi\":\"新北市汐止區\",\"taipei_zhongshan\":\"台北市中山區\",\"datong\":\"台北市大同區\",\"daan\":\"台北市大安區\",\n",
    "          \"taipei_zhongzheng\":\"台北市中正區\",\"taipei_xinyi\":\"台北市信義區\",\"wanhua\":\"台北市萬華區\",\n",
    "          \"shilin\":\"台北市士林區\",\"beitou\":\"台北市北投區\",\"luzhou\":\"新北市蘆洲區\",\"sanchong\":\"新北市三重區\",\n",
    "          \"tucheng\":\"新北市土城區\",\"yonghe\":\"新北市永和區\"}\n",
    "\n",
    "\n",
    "for x in CityName:\n",
    "    for y in B_type:\n",
    "        df = pd.read_excel('./maps\\{}\\{}_{}.xlsx'.format(CityName1[x],CityName1[x],y)) #讀檔\n",
    "        df.loc[df['city_name']=='{}'.format(x), 'city_name'] = CityName1[\"{}\".format(x)] #將英文區域改成中文\n",
    "        df[\"full_address\"] = df[\"city_name\"]+df[\"address\"] #合併2欄\n",
    "        df = df.drop(['address'],axis=1).drop(['city_name'],axis=1) #將city_name跟address2欄刪除\n",
    "\n",
    "        #將column(full_address)從欄5更改到欄2\n",
    "        full_address = df['full_address']\n",
    "        df.drop(labels=['full_address'], axis=1,inplace = True)\n",
    "        df.insert(2, 'full_address', full_address)\n",
    "        writer = pd.ExcelWriter('maps\\{}\\{}_{}.xlsx'.format(CityName1[x],CityName1[x],y), engine='xlsxwriter')\n",
    "        df.to_excel(writer, 'Sheet1')\n",
    "        writer.save()          \n",
    "       \n",
    "elapsed = (time.clock() - start)\n",
    "print(\"Time used:\",elapsed)"
   ]
  },
  {
   "cell_type": "code",
   "execution_count": 10,
   "metadata": {},
   "outputs": [
    {
     "data": {
      "text/html": [
       "<div>\n",
       "<style scoped>\n",
       "    .dataframe tbody tr th:only-of-type {\n",
       "        vertical-align: middle;\n",
       "    }\n",
       "\n",
       "    .dataframe tbody tr th {\n",
       "        vertical-align: top;\n",
       "    }\n",
       "\n",
       "    .dataframe thead th {\n",
       "        text-align: right;\n",
       "    }\n",
       "</style>\n",
       "<table border=\"1\" class=\"dataframe\">\n",
       "  <thead>\n",
       "    <tr style=\"text-align: right;\">\n",
       "      <th></th>\n",
       "      <th>id</th>\n",
       "      <th>postcode</th>\n",
       "      <th>full_address</th>\n",
       "      <th>business_type</th>\n",
       "      <th>latitude</th>\n",
       "      <th>longitude</th>\n",
       "    </tr>\n",
       "  </thead>\n",
       "  <tbody>\n",
       "  </tbody>\n",
       "</table>\n",
       "</div>"
      ],
      "text/plain": [
       "Empty DataFrame\n",
       "Columns: [id, postcode, full_address, business_type, latitude, longitude]\n",
       "Index: []"
      ]
     },
     "execution_count": 10,
     "metadata": {},
     "output_type": "execute_result"
    }
   ],
   "source": [
    "df"
   ]
  },
  {
   "cell_type": "markdown",
   "metadata": {},
   "source": [
    "# 附註"
   ]
  },
  {
   "cell_type": "markdown",
   "metadata": {},
   "source": [
    "# 原始程式"
   ]
  },
  {
   "cell_type": "code",
   "execution_count": 134,
   "metadata": {},
   "outputs": [],
   "source": [
    "import pandas as pd\n",
    "import psycopg2\n",
    "\n",
    "\n",
    "\n",
    "conn=psycopg2.connect(database=\"prod_20180403\", user=\"postgres\", password=\"12345\",host='52.220.45.107', port=\"5432\")\n",
    "with conn:\n",
    "    cur=conn.cursor()\n",
    "    cur.execute(\"select id,postcode,business_type,city_name,address,latitude,longitude from consumer where city_name='banqiao' and business_type='NORMAL' \")\n",
    "    rows = cur.fetchall()\n",
    "    N=pd.DataFrame(rows)\n",
    "    \n",
    "    cur.execute(\"select id,postcode,business_type,city_name,address,latitude,longitude from consumer where city_name='banqiao' and business_type='BUSINESS' \")\n",
    "    rows = cur.fetchall()\n",
    "    B=pd.DataFrame(rows)\n",
    "    \n",
    "    cur.execute(\"select id,postcode,business_type,city_name,address,latitude,longitude from consumer where city_name='banqiao' and business_type='PIPE' \")\n",
    "    rows = cur.fetchall()\n",
    "    P=pd.DataFrame(rows)    \n",
    "\n",
    "    cur.close() \n",
    "    \n",
    "\n",
    "writer = pd.ExcelWriter('consumer_NORMAL.xlsx', engine='xlsxwriter')\n",
    "N.to_excel(writer, 'Sheet1')\n",
    "writer.save()  \n",
    "\n",
    "writer = pd.ExcelWriter('consumer_BUSINESS.xlsx', engine='xlsxwriter')\n",
    "B.to_excel(writer, 'Sheet1')\n",
    "writer.save()    \n",
    "\n",
    "writer = pd.ExcelWriter('consumer_PIPE.xlsx', engine='xlsxwriter')\n",
    "P.to_excel(writer, 'Sheet1')\n",
    "writer.save()  \n",
    "\n"
   ]
  },
  {
   "cell_type": "markdown",
   "metadata": {},
   "source": [
    "# Connect to the DB and read the table\"consumer\""
   ]
  },
  {
   "cell_type": "code",
   "execution_count": 29,
   "metadata": {},
   "outputs": [],
   "source": [
    "import pandas as pd\n",
    "import psycopg2\n",
    "conn=psycopg2.connect(database=\"prod_20180403\", user=\"postgres\", password=\"12345\",host='52.220.45.107', port=\"5432\")\n",
    "with conn:\n",
    "    cur=conn.cursor()\n",
    "    cur.execute(\"select id,postcode,business_type,city_name,address,latitude,longitude from consumer where city_name='shilin' and business_type='NORMAL' \")\n",
    "    rows = cur.fetchall()\n",
    "    N=pd.DataFrame(rows)\n",
    "    \n",
    "    cur.execute(\"select id,postcode,business_type,city_name,address,latitude,longitude from consumer where city_name='shilin' and business_type='BUSINESS' \")\n",
    "    rows = cur.fetchall()\n",
    "    B=pd.DataFrame(rows)\n",
    "    \n",
    "    cur.execute(\"select id,postcode,business_type,city_name,address,latitude,longitude from consumer where city_name='shilin' and business_type='PIPE' \")\n",
    "    rows = cur.fetchall()\n",
    "    P=pd.DataFrame(rows)    \n",
    "\n",
    "    cur.close() "
   ]
  },
  {
   "cell_type": "markdown",
   "metadata": {},
   "source": [
    "# Write the data to xlsx file"
   ]
  },
  {
   "cell_type": "code",
   "execution_count": 22,
   "metadata": {},
   "outputs": [],
   "source": [
    "writer = pd.ExcelWriter(\n",
    "   'consumer.xlsx', engine='xlsxwriter')\n",
    "t.to_excel(writer, 'Sheet1')\n",
    "writer.save()"
   ]
  },
  {
   "cell_type": "markdown",
   "metadata": {},
   "source": [
    "# 將pandas合併欄位並刪除原address"
   ]
  },
  {
   "cell_type": "code",
   "execution_count": null,
   "metadata": {},
   "outputs": [],
   "source": [
    "\n",
    "\n",
    "df = pd.read_excel('./maps/banqiao/banqiao_NORMAL.xlsx') #讀檔\n",
    "df.loc[df['city_name']=='banqiao', 'city_name'] = '新北市板橋區' #將英文區域改成中文\n",
    "df[\"full_address\"] = df[\"city_name\"]+df[\"address\"] #合併2欄\n",
    "df = df.drop(['address'],axis=1).drop(['city_name'],axis=1) #將city_name跟address2欄刪除\n",
    "\n",
    "#將column(full_address)從欄5更改到欄2\n",
    "full_address = df['full_address']\n",
    "df.drop(labels=['full_address'], axis=1,inplace = True)\n",
    "df.insert(2, 'full_address', full_address)\n",
    "\n",
    "df\n",
    "\n",
    "writer = pd.ExcelWriter('DFDFDFDF.xlsx'.format(x,x,y), engine='xlsxwriter')\n",
    "df.to_excel(writer, 'Sheet1')\n",
    "writer.save()  "
   ]
  }
 ],
 "metadata": {
  "kernelspec": {
   "display_name": "Python 3",
   "language": "python",
   "name": "python3"
  },
  "language_info": {
   "codemirror_mode": {
    "name": "ipython",
    "version": 3
   },
   "file_extension": ".py",
   "mimetype": "text/x-python",
   "name": "python",
   "nbconvert_exporter": "python",
   "pygments_lexer": "ipython3",
   "version": "3.6.5"
  }
 },
 "nbformat": 4,
 "nbformat_minor": 2
}
