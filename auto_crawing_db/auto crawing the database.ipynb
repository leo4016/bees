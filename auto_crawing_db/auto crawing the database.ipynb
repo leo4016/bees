{
 "cells": [
  {
   "cell_type": "markdown",
   "metadata": {},
   "source": [
    "# 優化後程式"
   ]
  },
  {
   "cell_type": "code",
   "execution_count": null,
   "metadata": {},
   "outputs": [],
   "source": [
    "CityName=(\"danshui\",\"nangang\",\"zhongshan_keelung\",\"renai\",\"anle\",\"neihu\",\"xinzhuang\",\"shulin\",\"banqiao\",\n",
    "          \"songshan\",\"zhonghe\",\"nuannuan\",\"qidu\",\"keelung_zhongzheng\",\"keelung_xinyi\",\"xizhi\",\"taipei_zhongshan\",\n",
    "         \"datong\",\"daan\",\"taipei_zhongzheng\",\"taipei_xinyi\",\"wanhua\",\"shilin\",\"beitou\",\"luzhou\",\"sanchong\")\n",
    "def mkdir(path):\n",
    "    # 引入模块\n",
    "    import os\n",
    " \n",
    "    # 去除首位空格\n",
    "    path=path.strip()\n",
    "    # 去除尾部 \\ 符号\n",
    "    path=path.rstrip(\"\\\\\")\n",
    " \n",
    "    # 判断路径是否存在\n",
    "    # 存在     True\n",
    "    # 不存在   False\n",
    "    isExists=os.path.exists(path)\n",
    " \n",
    "    # 判断结果\n",
    "    if not isExists:\n",
    "        # 如果不存在则创建目录\n",
    "        print path+' 创建成功'\n",
    "        # 创建目录操作函数\n",
    "        os.makedirs(path)\n",
    "        return True\n",
    "    else:\n",
    "        # 如果目录存在则不创建，并提示目录已存在\n",
    "        print path+' 目录已存在'\n",
    "        return False\n",
    " \n",
    "# 定义要创建的目录\n",
    "\n",
    "home/leo/Desktop/connect to db\n",
    "mkpath=\"d:\\\\qttc\\\\web\\\\\"\n",
    "# 调用函数\n",
    "mkdir(mkpath)"
   ]
  },
  {
   "cell_type": "code",
   "execution_count": 52,
   "metadata": {
    "scrolled": true
   },
   "outputs": [
    {
     "ename": "FileNotFoundError",
     "evalue": "[Errno 2] No such file or directory: 'danshui/danshui_NORMAL.xlsx'",
     "output_type": "error",
     "traceback": [
      "\u001b[0;31m---------------------------------------------------------------------------\u001b[0m",
      "\u001b[0;31mFileNotFoundError\u001b[0m                         Traceback (most recent call last)",
      "\u001b[0;32m<ipython-input-52-18e61e56b9f3>\u001b[0m in \u001b[0;36m<module>\u001b[0;34m()\u001b[0m\n\u001b[1;32m     24\u001b[0m             \u001b[0mwriter\u001b[0m \u001b[0;34m=\u001b[0m \u001b[0mpd\u001b[0m\u001b[0;34m.\u001b[0m\u001b[0mExcelWriter\u001b[0m\u001b[0;34m(\u001b[0m\u001b[0;34m'{}/{}_{}.xlsx'\u001b[0m\u001b[0;34m.\u001b[0m\u001b[0mformat\u001b[0m\u001b[0;34m(\u001b[0m\u001b[0mx\u001b[0m\u001b[0;34m,\u001b[0m\u001b[0mx\u001b[0m\u001b[0;34m,\u001b[0m\u001b[0my\u001b[0m\u001b[0;34m)\u001b[0m\u001b[0;34m,\u001b[0m \u001b[0mengine\u001b[0m\u001b[0;34m=\u001b[0m\u001b[0;34m'xlsxwriter'\u001b[0m\u001b[0;34m)\u001b[0m\u001b[0;34m\u001b[0m\u001b[0m\n\u001b[1;32m     25\u001b[0m             \u001b[0mz\u001b[0m\u001b[0;34m.\u001b[0m\u001b[0mto_excel\u001b[0m\u001b[0;34m(\u001b[0m\u001b[0mwriter\u001b[0m\u001b[0;34m,\u001b[0m \u001b[0;34m'Sheet1'\u001b[0m\u001b[0;34m)\u001b[0m\u001b[0;34m\u001b[0m\u001b[0m\n\u001b[0;32m---> 26\u001b[0;31m             \u001b[0mwriter\u001b[0m\u001b[0;34m.\u001b[0m\u001b[0msave\u001b[0m\u001b[0;34m(\u001b[0m\u001b[0;34m)\u001b[0m\u001b[0;34m\u001b[0m\u001b[0m\n\u001b[0m\u001b[1;32m     27\u001b[0m \u001b[0;34m\u001b[0m\u001b[0m\n\u001b[1;32m     28\u001b[0m \u001b[0melapsed\u001b[0m \u001b[0;34m=\u001b[0m \u001b[0;34m(\u001b[0m\u001b[0mtime\u001b[0m\u001b[0;34m.\u001b[0m\u001b[0mclock\u001b[0m\u001b[0;34m(\u001b[0m\u001b[0;34m)\u001b[0m \u001b[0;34m-\u001b[0m \u001b[0mstart\u001b[0m\u001b[0;34m)\u001b[0m\u001b[0;34m\u001b[0m\u001b[0m\n",
      "\u001b[0;32m/usr/local/lib/python3.5/dist-packages/pandas/io/excel.py\u001b[0m in \u001b[0;36msave\u001b[0;34m(self)\u001b[0m\n\u001b[1;32m   1600\u001b[0m         \"\"\"\n\u001b[1;32m   1601\u001b[0m \u001b[0;34m\u001b[0m\u001b[0m\n\u001b[0;32m-> 1602\u001b[0;31m         \u001b[0;32mreturn\u001b[0m \u001b[0mself\u001b[0m\u001b[0;34m.\u001b[0m\u001b[0mbook\u001b[0m\u001b[0;34m.\u001b[0m\u001b[0mclose\u001b[0m\u001b[0;34m(\u001b[0m\u001b[0;34m)\u001b[0m\u001b[0;34m\u001b[0m\u001b[0m\n\u001b[0m\u001b[1;32m   1603\u001b[0m \u001b[0;34m\u001b[0m\u001b[0m\n\u001b[1;32m   1604\u001b[0m     def write_cells(self, cells, sheet_name=None, startrow=0, startcol=0,\n",
      "\u001b[0;32m/usr/lib/python3/dist-packages/xlsxwriter/workbook.py\u001b[0m in \u001b[0;36mclose\u001b[0;34m(self)\u001b[0m\n\u001b[1;32m    293\u001b[0m         \u001b[0;32mif\u001b[0m \u001b[0;32mnot\u001b[0m \u001b[0mself\u001b[0m\u001b[0;34m.\u001b[0m\u001b[0mfileclosed\u001b[0m\u001b[0;34m:\u001b[0m\u001b[0;34m\u001b[0m\u001b[0m\n\u001b[1;32m    294\u001b[0m             \u001b[0mself\u001b[0m\u001b[0;34m.\u001b[0m\u001b[0mfileclosed\u001b[0m \u001b[0;34m=\u001b[0m \u001b[0;36m1\u001b[0m\u001b[0;34m\u001b[0m\u001b[0m\n\u001b[0;32m--> 295\u001b[0;31m             \u001b[0mself\u001b[0m\u001b[0;34m.\u001b[0m\u001b[0m_store_workbook\u001b[0m\u001b[0;34m(\u001b[0m\u001b[0;34m)\u001b[0m\u001b[0;34m\u001b[0m\u001b[0m\n\u001b[0m\u001b[1;32m    296\u001b[0m \u001b[0;34m\u001b[0m\u001b[0m\n\u001b[1;32m    297\u001b[0m     \u001b[0;32mdef\u001b[0m \u001b[0mset_properties\u001b[0m\u001b[0;34m(\u001b[0m\u001b[0mself\u001b[0m\u001b[0;34m,\u001b[0m \u001b[0mproperties\u001b[0m\u001b[0;34m)\u001b[0m\u001b[0;34m:\u001b[0m\u001b[0;34m\u001b[0m\u001b[0m\n",
      "\u001b[0;32m/usr/lib/python3/dist-packages/xlsxwriter/workbook.py\u001b[0m in \u001b[0;36m_store_workbook\u001b[0;34m(self)\u001b[0m\n\u001b[1;32m    522\u001b[0m \u001b[0;34m\u001b[0m\u001b[0m\n\u001b[1;32m    523\u001b[0m         xlsx_file = ZipFile(self.filename, \"w\", compression=ZIP_DEFLATED,\n\u001b[0;32m--> 524\u001b[0;31m                             allowZip64=self.allow_zip64)\n\u001b[0m\u001b[1;32m    525\u001b[0m \u001b[0;34m\u001b[0m\u001b[0m\n\u001b[1;32m    526\u001b[0m         \u001b[0;31m# Add XML sub-files to the Zip file with their Excel filename.\u001b[0m\u001b[0;34m\u001b[0m\u001b[0;34m\u001b[0m\u001b[0m\n",
      "\u001b[0;32m/usr/lib/python3.5/zipfile.py\u001b[0m in \u001b[0;36m__init__\u001b[0;34m(self, file, mode, compression, allowZip64)\u001b[0m\n\u001b[1;32m   1007\u001b[0m             \u001b[0;32mwhile\u001b[0m \u001b[0;32mTrue\u001b[0m\u001b[0;34m:\u001b[0m\u001b[0;34m\u001b[0m\u001b[0m\n\u001b[1;32m   1008\u001b[0m                 \u001b[0;32mtry\u001b[0m\u001b[0;34m:\u001b[0m\u001b[0;34m\u001b[0m\u001b[0m\n\u001b[0;32m-> 1009\u001b[0;31m                     \u001b[0mself\u001b[0m\u001b[0;34m.\u001b[0m\u001b[0mfp\u001b[0m \u001b[0;34m=\u001b[0m \u001b[0mio\u001b[0m\u001b[0;34m.\u001b[0m\u001b[0mopen\u001b[0m\u001b[0;34m(\u001b[0m\u001b[0mfile\u001b[0m\u001b[0;34m,\u001b[0m \u001b[0mfilemode\u001b[0m\u001b[0;34m)\u001b[0m\u001b[0;34m\u001b[0m\u001b[0m\n\u001b[0m\u001b[1;32m   1010\u001b[0m                 \u001b[0;32mexcept\u001b[0m \u001b[0mOSError\u001b[0m\u001b[0;34m:\u001b[0m\u001b[0;34m\u001b[0m\u001b[0m\n\u001b[1;32m   1011\u001b[0m                     \u001b[0;32mif\u001b[0m \u001b[0mfilemode\u001b[0m \u001b[0;32min\u001b[0m \u001b[0mmodeDict\u001b[0m\u001b[0;34m:\u001b[0m\u001b[0;34m\u001b[0m\u001b[0m\n",
      "\u001b[0;31mFileNotFoundError\u001b[0m: [Errno 2] No such file or directory: 'danshui/danshui_NORMAL.xlsx'"
     ]
    }
   ],
   "source": [
    "import pandas as pd\n",
    "import psycopg2\n",
    "import time\n",
    "\n",
    "start = time.clock()\n",
    "\n",
    "B_type=(\"NORMAL\",\"BUSINESS\",\"PIPE\")\n",
    "CityName=(\"danshui\",\"nangang\",\"zhongshan_keelung\",\"renai\",\"anle\",\"neihu\",\"xinzhuang\",\"shulin\",\"banqiao\",\n",
    "          \"songshan\",\"zhonghe\",\"nuannuan\",\"qidu\",\"keelung_zhongzheng\",\"keelung_xinyi\",\"xizhi\",\"taipei_zhongshan\",\n",
    "         \"datong\",\"daan\",\"taipei_zhongzheng\",\"taipei_xinyi\",\"wanhua\",\"shilin\",\"beitou\",\"luzhou\",\"sanchong\")\n",
    "\n",
    "\n",
    "conn=psycopg2.connect(database=\"prod_20180403\", user=\"postgres\", password=\"12345\",host='52.220.45.107', port=\"5432\")\n",
    "\n",
    "with conn:\n",
    "    for x in CityName:\n",
    "        for y in B_type:\n",
    "            cur=conn.cursor()\n",
    "            cur.execute(\"select id,postcode,business_type,city_name,address,latitude,longitude from consumer where city_name='{}' and business_type='{}'\".format(x,y)) \n",
    "            rows = cur.fetchall()\n",
    "            z=pd.DataFrame(rows) \n",
    "            cur.close()\n",
    "\n",
    "            writer = pd.ExcelWriter('{}/{}_{}.xlsx'.format(x,x,y), engine='xlsxwriter')\n",
    "            z.to_excel(writer, 'Sheet1')\n",
    "            writer.save()  \n",
    "            \n",
    "elapsed = (time.clock() - start)\n",
    "print(\"Time used:\",elapsed)\n"
   ]
  },
  {
   "cell_type": "code",
   "execution_count": null,
   "metadata": {},
   "outputs": [],
   "source": []
  },
  {
   "cell_type": "code",
   "execution_count": null,
   "metadata": {},
   "outputs": [],
   "source": []
  },
  {
   "cell_type": "markdown",
   "metadata": {},
   "source": [
    "# 原始程式"
   ]
  },
  {
   "cell_type": "code",
   "execution_count": 45,
   "metadata": {},
   "outputs": [],
   "source": [
    "import pandas as pd\n",
    "import psycopg2\n",
    "\n",
    "\n",
    "\n",
    "conn=psycopg2.connect(database=\"prod_20180403\", user=\"postgres\", password=\"12345\",host='52.220.45.107', port=\"5432\")\n",
    "with conn:\n",
    "    cur=conn.cursor()\n",
    "    cur.execute(\"select id,postcode,business_type,city_name,address,latitude,longitude from consumer where city_name='danshui' and business_type='NORMAL' \")\n",
    "    rows = cur.fetchall()\n",
    "    N=pd.DataFrame(rows)\n",
    "    \n",
    "    cur.execute(\"select id,postcode,business_type,city_name,address,latitude,longitude from consumer where city_name='danshui' and business_type='BUSINESS' \")\n",
    "    rows = cur.fetchall()\n",
    "    B=pd.DataFrame(rows)\n",
    "    \n",
    "    cur.execute(\"select id,postcode,business_type,city_name,address,latitude,longitude from consumer where city_name='danshui' and business_type='PIPE' \")\n",
    "    rows = cur.fetchall()\n",
    "    P=pd.DataFrame(rows)    \n",
    "\n",
    "    cur.close() \n",
    "    \n",
    "\n",
    "writer = pd.ExcelWriter('consumer_NORMAL.xlsx', engine='xlsxwriter')\n",
    "N.to_excel(writer, 'Sheet1')\n",
    "writer.save()  \n",
    "\n",
    "writer = pd.ExcelWriter('consumer_BUSINESS.xlsx', engine='xlsxwriter')\n",
    "B.to_excel(writer, 'Sheet1')\n",
    "writer.save()    \n",
    "\n",
    "writer = pd.ExcelWriter('consumer_PIPE.xlsx', engine='xlsxwriter')\n",
    "P.to_excel(writer, 'Sheet1')\n",
    "writer.save()  \n",
    "\n"
   ]
  },
  {
   "cell_type": "markdown",
   "metadata": {},
   "source": [
    "# Connect to the DB and read the table\"consumer\""
   ]
  },
  {
   "cell_type": "code",
   "execution_count": 29,
   "metadata": {},
   "outputs": [],
   "source": [
    "import pandas as pd\n",
    "import psycopg2\n",
    "conn=psycopg2.connect(database=\"prod_20180403\", user=\"postgres\", password=\"12345\",host='52.220.45.107', port=\"5432\")\n",
    "with conn:\n",
    "    cur=conn.cursor()\n",
    "    cur.execute(\"select id,postcode,business_type,city_name,address,latitude,longitude from consumer where city_name='shilin' and business_type='NORMAL' \")\n",
    "    rows = cur.fetchall()\n",
    "    N=pd.DataFrame(rows)\n",
    "    \n",
    "    cur.execute(\"select id,postcode,business_type,city_name,address,latitude,longitude from consumer where city_name='shilin' and business_type='BUSINESS' \")\n",
    "    rows = cur.fetchall()\n",
    "    B=pd.DataFrame(rows)\n",
    "    \n",
    "    cur.execute(\"select id,postcode,business_type,city_name,address,latitude,longitude from consumer where city_name='shilin' and business_type='PIPE' \")\n",
    "    rows = cur.fetchall()\n",
    "    P=pd.DataFrame(rows)    \n",
    "\n",
    "    cur.close() "
   ]
  },
  {
   "cell_type": "markdown",
   "metadata": {},
   "source": [
    "# Write the data to xlsx file"
   ]
  },
  {
   "cell_type": "code",
   "execution_count": 22,
   "metadata": {},
   "outputs": [],
   "source": [
    "writer = pd.ExcelWriter(\n",
    "   'consumer.xlsx', engine='xlsxwriter')\n",
    "t.to_excel(writer, 'Sheet1')\n",
    "writer.save()"
   ]
  },
  {
   "cell_type": "code",
   "execution_count": null,
   "metadata": {},
   "outputs": [],
   "source": []
  }
 ],
 "metadata": {
  "kernelspec": {
   "display_name": "Python 3",
   "language": "python",
   "name": "python3"
  },
  "language_info": {
   "codemirror_mode": {
    "name": "ipython",
    "version": 3
   },
   "file_extension": ".py",
   "mimetype": "text/x-python",
   "name": "python",
   "nbconvert_exporter": "python",
   "pygments_lexer": "ipython3",
   "version": "3.5.2"
  }
 },
 "nbformat": 4,
 "nbformat_minor": 2
}
