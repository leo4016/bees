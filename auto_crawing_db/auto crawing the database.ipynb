{
 "cells": [
  {
   "cell_type": "markdown",
   "metadata": {},
   "source": [
    "# 優化後程式"
   ]
  },
  {
   "cell_type": "code",
   "execution_count": 24,
   "metadata": {},
   "outputs": [
    {
     "name": "stdout",
     "output_type": "stream",
     "text": [
      "danshui 创建成功\n",
      "nangang 创建成功\n",
      "zhongshan_keelung 创建成功\n",
      "renai 创建成功\n",
      "anle 创建成功\n",
      "neihu 创建成功\n",
      "xinzhuang 创建成功\n",
      "shulin 创建成功\n",
      "banqiao 创建成功\n",
      "songshan 创建成功\n",
      "zhonghe 创建成功\n",
      "nuannuan 创建成功\n",
      "qidu 创建成功\n",
      "keelung_zhongzheng 创建成功\n",
      "keelung_xinyi 创建成功\n",
      "xizhi 创建成功\n",
      "taipei_zhongshan 创建成功\n",
      "datong 创建成功\n",
      "daan 创建成功\n",
      "taipei_zhongzheng 创建成功\n",
      "taipei_xinyi 创建成功\n",
      "wanhua 创建成功\n",
      "shilin 创建成功\n",
      "beitou 创建成功\n",
      "luzhou 创建成功\n",
      "sanchong 创建成功\n"
     ]
    }
   ],
   "source": [
    "CityName=(\"danshui\",\"nangang\",\"zhongshan_keelung\",\"renai\",\"anle\",\"neihu\",\"xinzhuang\",\"shulin\",\"banqiao\",\n",
    "          \"songshan\",\"zhonghe\",\"nuannuan\",\"qidu\",\"keelung_zhongzheng\",\"keelung_xinyi\",\"xizhi\",\"taipei_zhongshan\",\n",
    "         \"datong\",\"daan\",\"taipei_zhongzheng\",\"taipei_xinyi\",\"wanhua\",\"shilin\",\"beitou\",\"luzhou\",\"sanchong\")\n",
    "def mkdir(path):\n",
    "    # 引入模块\n",
    "    import os\n",
    " \n",
    "    # 去除首位空格\n",
    "    path=path.strip()\n",
    "    # 去除尾部 \\ 符号\n",
    "    path=path.rstrip(\"\\\\\")\n",
    " \n",
    "    # 判断路径是否存在\n",
    "    # 存在     True\n",
    "    # 不存在   False\n",
    "    isExists=os.path.exists(path)\n",
    " \n",
    "    # 判断结果\n",
    "    if not isExists:\n",
    "        # 如果不存在则创建目录\n",
    "        print (path+' 创建成功')\n",
    "        # 创建目录操作函数\n",
    "        os.makedirs(path)\n",
    "        return True\n",
    "    else:\n",
    "        # 如果目录存在则不创建，并提示目录已存在\n",
    "        print (path+' 目录已存在')\n",
    "        return False\n",
    " \n",
    "# 定义要创建的目录\n",
    "\n",
    "\n",
    "#home/leo/Desktop/connect_to_db\n",
    "#mkpath=\"d:\\\\qttc\\\\web\\\\\"\n",
    "# 调用函数\n",
    "#mkdir(mkpath)\n",
    "\n",
    "for x in CityName:\n",
    "    mkdir(x)       #創建全部地區資料夾"
   ]
  },
  {
   "cell_type": "code",
   "execution_count": null,
   "metadata": {
    "scrolled": false
   },
   "outputs": [],
   "source": [
    "import pandas as pd\n",
    "import psycopg2\n",
    "import time\n",
    "\n",
    "start = time.clock()\n",
    "\n",
    "B_type=(\"NORMAL\",\"BUSINESS\",\"PIPE\")\n",
    "CityName=(\"danshui\",\"nangang\",\"zhongshan_keelung\",\"renai\",\"anle\",\"neihu\",\"xinzhuang\",\"shulin\",\"banqiao\",\n",
    "          \"songshan\",\"zhonghe\",\"nuannuan\",\"qidu\",\"keelung_zhongzheng\",\"keelung_xinyi\",\"xizhi\",\"taipei_zhongshan\",\n",
    "         \"datong\",\"daan\",\"taipei_zhongzheng\",\"taipei_xinyi\",\"wanhua\",\"shilin\",\"beitou\",\"luzhou\",\"sanchong\")\n",
    "\n",
    "\n",
    "conn=psycopg2.connect(database=\"prod_20180503\", user=\"postgres\", password=\"12345\",host='192.168.80.1', port=\"5432\")\n",
    "\n",
    "with conn:\n",
    "    for x in CityName:\n",
    "        for y in B_type:\n",
    "            cur=conn.cursor()\n",
    "            cur.execute(\"select id,postcode,business_type,city_name,address,latitude,longitude from consumer where city_name='{}' and business_type='{}'\".format(x,y)) \n",
    "            columns1 = ['id','postcode','business_type','city_name','address','latitude','longitude']\n",
    "            rows = cur.fetchall()\n",
    "            z=pd.DataFrame(rows,columns = ['id','postcode','business_type','city_name','address','latitude','longitude'] )\n",
    "            \n",
    "            cur.close()\n",
    "\n",
    "            writer = pd.ExcelWriter('{}/{}_{}.xlsx'.format(x,x,y), engine='xlsxwriter')\n",
    "            z.to_excel(writer, 'Sheet1')\n",
    "            writer.save()  \n",
    "            \n",
    "elapsed = (time.clock() - start)\n",
    "print(\"Time used:\",elapsed)\n"
   ]
  },
  {
   "cell_type": "code",
   "execution_count": null,
   "metadata": {},
   "outputs": [],
   "source": []
  },
  {
   "cell_type": "code",
   "execution_count": null,
   "metadata": {},
   "outputs": [],
   "source": []
  },
  {
   "cell_type": "markdown",
   "metadata": {},
   "source": [
    "# 原始程式"
   ]
  },
  {
   "cell_type": "code",
   "execution_count": 20,
   "metadata": {},
   "outputs": [],
   "source": [
    "import pandas as pd\n",
    "import psycopg2\n",
    "\n",
    "\n",
    "\n",
    "conn=psycopg2.connect(database=\"prod_20180403\", user=\"postgres\", password=\"12345\",host='52.220.45.107', port=\"5432\")\n",
    "with conn:\n",
    "    cur=conn.cursor()\n",
    "    cur.execute(\"select id,postcode,business_type,city_name,address,latitude,longitude from consumer where city_name='banqiao' and business_type='NORMAL' \")\n",
    "    rows = cur.fetchall()\n",
    "    N=pd.DataFrame(rows)\n",
    "    \n",
    "    cur.execute(\"select id,postcode,business_type,city_name,address,latitude,longitude from consumer where city_name='banqiao' and business_type='BUSINESS' \")\n",
    "    rows = cur.fetchall()\n",
    "    B=pd.DataFrame(rows)\n",
    "    \n",
    "    cur.execute(\"select id,postcode,business_type,city_name,address,latitude,longitude from consumer where city_name='banqiao' and business_type='PIPE' \")\n",
    "    rows = cur.fetchall()\n",
    "    P=pd.DataFrame(rows)    \n",
    "\n",
    "    cur.close() \n",
    "    \n",
    "\n",
    "writer = pd.ExcelWriter('consumer_NORMAL.xlsx', engine='xlsxwriter')\n",
    "N.to_excel(writer, 'Sheet1')\n",
    "writer.save()  \n",
    "\n",
    "writer = pd.ExcelWriter('consumer_BUSINESS.xlsx', engine='xlsxwriter')\n",
    "B.to_excel(writer, 'Sheet1')\n",
    "writer.save()    \n",
    "\n",
    "writer = pd.ExcelWriter('consumer_PIPE.xlsx', engine='xlsxwriter')\n",
    "P.to_excel(writer, 'Sheet1')\n",
    "writer.save()  \n",
    "\n"
   ]
  },
  {
   "cell_type": "markdown",
   "metadata": {},
   "source": [
    "# Connect to the DB and read the table\"consumer\""
   ]
  },
  {
   "cell_type": "code",
   "execution_count": 29,
   "metadata": {},
   "outputs": [],
   "source": [
    "import pandas as pd\n",
    "import psycopg2\n",
    "conn=psycopg2.connect(database=\"prod_20180403\", user=\"postgres\", password=\"12345\",host='52.220.45.107', port=\"5432\")\n",
    "with conn:\n",
    "    cur=conn.cursor()\n",
    "    cur.execute(\"select id,postcode,business_type,city_name,address,latitude,longitude from consumer where city_name='shilin' and business_type='NORMAL' \")\n",
    "    rows = cur.fetchall()\n",
    "    N=pd.DataFrame(rows)\n",
    "    \n",
    "    cur.execute(\"select id,postcode,business_type,city_name,address,latitude,longitude from consumer where city_name='shilin' and business_type='BUSINESS' \")\n",
    "    rows = cur.fetchall()\n",
    "    B=pd.DataFrame(rows)\n",
    "    \n",
    "    cur.execute(\"select id,postcode,business_type,city_name,address,latitude,longitude from consumer where city_name='shilin' and business_type='PIPE' \")\n",
    "    rows = cur.fetchall()\n",
    "    P=pd.DataFrame(rows)    \n",
    "\n",
    "    cur.close() "
   ]
  },
  {
   "cell_type": "markdown",
   "metadata": {},
   "source": [
    "# Write the data to xlsx file"
   ]
  },
  {
   "cell_type": "code",
   "execution_count": 22,
   "metadata": {},
   "outputs": [],
   "source": [
    "writer = pd.ExcelWriter(\n",
    "   'consumer.xlsx', engine='xlsxwriter')\n",
    "t.to_excel(writer, 'Sheet1')\n",
    "writer.save()"
   ]
  },
  {
   "cell_type": "code",
   "execution_count": null,
   "metadata": {},
   "outputs": [],
   "source": []
  }
 ],
 "metadata": {
  "kernelspec": {
   "display_name": "Python 3",
   "language": "python",
   "name": "python3"
  },
  "language_info": {
   "codemirror_mode": {
    "name": "ipython",
    "version": 3
   },
   "file_extension": ".py",
   "mimetype": "text/x-python",
   "name": "python",
   "nbconvert_exporter": "python",
   "pygments_lexer": "ipython3",
   "version": "3.5.2"
  }
 },
 "nbformat": 4,
 "nbformat_minor": 2
}
